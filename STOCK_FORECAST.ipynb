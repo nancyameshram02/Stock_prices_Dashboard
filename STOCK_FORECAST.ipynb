{
 "cells": [
  {
   "cell_type": "code",
   "execution_count": 219,
   "id": "0ca3af53",
   "metadata": {},
   "outputs": [],
   "source": [
    "from alpha_vantage.timeseries import TimeSeries\n",
    "import pandas as pd\n",
    "import numpy as np\n",
    "import seaborn as sn\n",
    "import matplotlib.pyplot as plt\n",
    "import seaborn as sns\n",
    "# sns.set_style('whitegrid')\n",
    "# plt.style.use(\"fivethirtyeight\")\n",
    "%matplotlib inline"
   ]
  },
  {
   "cell_type": "code",
   "execution_count": 220,
   "id": "e5afe43e",
   "metadata": {},
   "outputs": [],
   "source": [
    "sym = ['AXP','BA','CAT','CSCO','CVX','DD','DIS','GE', \n",
    "        'GS','HD','IBM','INTC','JNJ','JPM','KO','MCD', \n",
    "        'MMM','MRK','MSFT','NKE','PFE','PG','T','TRV', \n",
    "        'UNH','UTX','V','VZ','WMT','XOM','GOOGL','TSLA','AMZN','NFLX']\n",
    "API_key = 'SF6G3X4HJ80V3H23'"
   ]
  },
  {
   "cell_type": "code",
   "execution_count": 221,
   "id": "81d18abb",
   "metadata": {},
   "outputs": [],
   "source": [
    "ts = TimeSeries(key=API_key, output_format='pandas')\n",
    "googl_data, googl_meta = ts.get_daily(symbol='GOOGL', outputsize='full')\n",
    "Msft_data, msft_meta = ts.get_daily(symbol='MSFT', outputsize='full')\n",
    "Amzn_data, amzn_meta = ts.get_daily(symbol='AMZN', outputsize='full')\n",
    "Nflx_data, nflx_meta = ts.get_daily(symbol='NFLX', outputsize='full')"
   ]
  },
  {
   "cell_type": "code",
   "execution_count": 222,
   "id": "99c1532c",
   "metadata": {},
   "outputs": [
    {
     "name": "stdout",
     "output_type": "stream",
     "text": [
      "(4508, 5) (5713, 5) (5713, 5) (5072, 5)\n"
     ]
    }
   ],
   "source": [
    "print(googl_data.shape,Msft_data.shape,Amzn_data.shape,Nflx_data.shape)"
   ]
  },
  {
   "cell_type": "code",
   "execution_count": 223,
   "id": "f2edbd03",
   "metadata": {},
   "outputs": [],
   "source": [
    "googl_data.reset_index(inplace=True)\n",
    "Msft_data.reset_index(inplace=True)\n",
    "Amzn_data.reset_index(inplace=True)\n",
    "Nflx_data.reset_index(inplace=True)"
   ]
  },
  {
   "cell_type": "code",
   "execution_count": 224,
   "id": "55e367cf",
   "metadata": {},
   "outputs": [
    {
     "name": "stdout",
     "output_type": "stream",
     "text": [
      "Index(['date', '1. open', '2. high', '3. low', '4. close', '5. volume'], dtype='object')\n",
      "Index(['date', '1. open', '2. high', '3. low', '4. close', '5. volume'], dtype='object')\n",
      "Index(['date', '1. open', '2. high', '3. low', '4. close', '5. volume'], dtype='object')\n",
      "Index(['date', '1. open', '2. high', '3. low', '4. close', '5. volume'], dtype='object')\n"
     ]
    }
   ],
   "source": [
    "print(googl_data.columns)\n",
    "print(Msft_data.columns)\n",
    "print(Amzn_data.columns)\n",
    "print(Nflx_data.columns)"
   ]
  },
  {
   "cell_type": "code",
   "execution_count": 225,
   "id": "0522e0f1",
   "metadata": {},
   "outputs": [
    {
     "data": {
      "text/html": [
       "<div>\n",
       "<style scoped>\n",
       "    .dataframe tbody tr th:only-of-type {\n",
       "        vertical-align: middle;\n",
       "    }\n",
       "\n",
       "    .dataframe tbody tr th {\n",
       "        vertical-align: top;\n",
       "    }\n",
       "\n",
       "    .dataframe thead th {\n",
       "        text-align: right;\n",
       "    }\n",
       "</style>\n",
       "<table border=\"1\" class=\"dataframe\">\n",
       "  <thead>\n",
       "    <tr style=\"text-align: right;\">\n",
       "      <th></th>\n",
       "      <th>date</th>\n",
       "      <th>1. open</th>\n",
       "      <th>2. high</th>\n",
       "      <th>3. low</th>\n",
       "      <th>4. close</th>\n",
       "      <th>5. volume</th>\n",
       "    </tr>\n",
       "  </thead>\n",
       "  <tbody>\n",
       "    <tr>\n",
       "      <th>0</th>\n",
       "      <td>2022-07-15</td>\n",
       "      <td>2240.01</td>\n",
       "      <td>2262.81</td>\n",
       "      <td>2218.0000</td>\n",
       "      <td>2235.55</td>\n",
       "      <td>2338456.0</td>\n",
       "    </tr>\n",
       "    <tr>\n",
       "      <th>1</th>\n",
       "      <td>2022-07-14</td>\n",
       "      <td>2204.21</td>\n",
       "      <td>2221.86</td>\n",
       "      <td>2167.4600</td>\n",
       "      <td>2207.35</td>\n",
       "      <td>1850152.0</td>\n",
       "    </tr>\n",
       "    <tr>\n",
       "      <th>2</th>\n",
       "      <td>2022-07-13</td>\n",
       "      <td>2234.02</td>\n",
       "      <td>2283.92</td>\n",
       "      <td>2224.0300</td>\n",
       "      <td>2227.07</td>\n",
       "      <td>2186101.0</td>\n",
       "    </tr>\n",
       "    <tr>\n",
       "      <th>3</th>\n",
       "      <td>2022-07-12</td>\n",
       "      <td>2324.30</td>\n",
       "      <td>2339.48</td>\n",
       "      <td>2273.8044</td>\n",
       "      <td>2280.41</td>\n",
       "      <td>1497985.0</td>\n",
       "    </tr>\n",
       "    <tr>\n",
       "      <th>4</th>\n",
       "      <td>2022-07-11</td>\n",
       "      <td>2359.96</td>\n",
       "      <td>2359.96</td>\n",
       "      <td>2306.6100</td>\n",
       "      <td>2313.53</td>\n",
       "      <td>1562185.0</td>\n",
       "    </tr>\n",
       "  </tbody>\n",
       "</table>\n",
       "</div>"
      ],
      "text/plain": [
       "        date  1. open  2. high     3. low  4. close  5. volume\n",
       "0 2022-07-15  2240.01  2262.81  2218.0000   2235.55  2338456.0\n",
       "1 2022-07-14  2204.21  2221.86  2167.4600   2207.35  1850152.0\n",
       "2 2022-07-13  2234.02  2283.92  2224.0300   2227.07  2186101.0\n",
       "3 2022-07-12  2324.30  2339.48  2273.8044   2280.41  1497985.0\n",
       "4 2022-07-11  2359.96  2359.96  2306.6100   2313.53  1562185.0"
      ]
     },
     "execution_count": 225,
     "metadata": {},
     "output_type": "execute_result"
    }
   ],
   "source": [
    "googl_data.head()"
   ]
  },
  {
   "cell_type": "code",
   "execution_count": 226,
   "id": "68568f13",
   "metadata": {},
   "outputs": [],
   "source": [
    "googl_data.rename(columns={googl_data.columns[1]: 'open',googl_data.columns[2]: 'high',googl_data.columns[3]: 'low',googl_data.columns[4]: 'close',googl_data.columns[5]: 'volume'},inplace=True)\n",
    "Msft_data.rename(columns={Msft_data.columns[1]: 'open',Msft_data.columns[2]: 'high',Msft_data.columns[3]: 'low',Msft_data.columns[4]: 'close',Msft_data.columns[5]: 'volume'},inplace=True)\n",
    "Amzn_data.rename(columns={Amzn_data.columns[1]: 'open',Amzn_data.columns[2]: 'high',Amzn_data.columns[3]: 'low',Amzn_data.columns[4]: 'close',Amzn_data.columns[5]: 'volume'},inplace=True)\n",
    "Nflx_data.rename(columns={Nflx_data.columns[1]: 'open',Nflx_data.columns[2]: 'high',Nflx_data.columns[3]: 'low',Nflx_data.columns[4]: 'close',Nflx_data.columns[5]: 'volume'},inplace=True)"
   ]
  },
  {
   "cell_type": "code",
   "execution_count": 227,
   "id": "492de8d3",
   "metadata": {},
   "outputs": [
    {
     "name": "stdout",
     "output_type": "stream",
     "text": [
      "Index(['date', 'open', 'high', 'low', 'close', 'volume'], dtype='object')\n",
      "Index(['date', 'open', 'high', 'low', 'close', 'volume'], dtype='object')\n",
      "Index(['date', 'open', 'high', 'low', 'close', 'volume'], dtype='object')\n",
      "Index(['date', 'open', 'high', 'low', 'close', 'volume'], dtype='object')\n"
     ]
    }
   ],
   "source": [
    "print(googl_data.columns)\n",
    "print(Msft_data.columns)\n",
    "print(Amzn_data.columns)\n",
    "print(Nflx_data.columns)"
   ]
  },
  {
   "cell_type": "markdown",
   "id": "39ce5c95",
   "metadata": {},
   "source": [
    "# LSTM Model"
   ]
  },
  {
   "cell_type": "code",
   "execution_count": 228,
   "id": "198c0a85",
   "metadata": {},
   "outputs": [
    {
     "data": {
      "text/plain": [
       "Text(0.5, 1.0, 'Close Price History of Google')"
      ]
     },
     "execution_count": 228,
     "metadata": {},
     "output_type": "execute_result"
    },
    {
     "data": {
      "image/png": "[encoded data removed]",
      "text/plain": [
       "<Figure size 1152x576 with 1 Axes>"
      ]
     },
     "metadata": {
      "needs_background": "light"
     },
     "output_type": "display_data"
    }
   ],
   "source": [
    "fig, ax = plt.subplots(figsize=(16,8))\n",
    "ax.plot(googl_data['date'], googl_data['close']);\n",
    "plt.title(\"Close Price History of Google\")"
   ]
  },
  {
   "cell_type": "code",
   "execution_count": 229,
   "id": "c9a748c1",
   "metadata": {},
   "outputs": [],
   "source": [
    "# fig, ax = plt.subplots(figsize=(16,8))\n",
    "# ax.plot(Msft_data['date'], Msft_data['close']);\n",
    "# plt.title(\"Close Price History of Microsoft\")"
   ]
  },
  {
   "cell_type": "code",
   "execution_count": 230,
   "id": "989a25c1",
   "metadata": {},
   "outputs": [],
   "source": [
    "# fig, ax = plt.subplots(figsize=(16,8))\n",
    "# ax.plot(Amzn_data['date'], Amzn_data['close']);\n",
    "# plt.title(\"Close Price History of Amazon\")"
   ]
  },
  {
   "cell_type": "code",
   "execution_count": 231,
   "id": "e0c21068",
   "metadata": {},
   "outputs": [],
   "source": [
    "# fig, ax = plt.subplots(figsize=(16,8))\n",
    "# ax.plot(Nflx_data['date'], Nflx_data['close']);\n",
    "# plt.title(\"Close Price History of Netfix\")"
   ]
  },
  {
   "cell_type": "code",
   "execution_count": 232,
   "id": "3382152a",
   "metadata": {},
   "outputs": [
    {
     "name": "stdout",
     "output_type": "stream",
     "text": [
      "<class 'pandas.core.frame.DataFrame'>\n",
      "RangeIndex: 4508 entries, 0 to 4507\n",
      "Data columns (total 6 columns):\n",
      " #   Column  Non-Null Count  Dtype         \n",
      "---  ------  --------------  -----         \n",
      " 0   date    4508 non-null   datetime64[ns]\n",
      " 1   open    4508 non-null   float64       \n",
      " 2   high    4508 non-null   float64       \n",
      " 3   low     4508 non-null   float64       \n",
      " 4   close   4508 non-null   float64       \n",
      " 5   volume  4508 non-null   float64       \n",
      "dtypes: datetime64[ns](1), float64(5)\n",
      "memory usage: 211.4 KB\n"
     ]
    }
   ],
   "source": [
    "googl_data.info()"
   ]
  },
  {
   "cell_type": "code",
   "execution_count": 233,
   "id": "75af9c7a",
   "metadata": {},
   "outputs": [],
   "source": [
    "from keras.models import Sequential\n",
    "from keras.layers import LSTM,Dropout,Dense"
   ]
  },
  {
   "cell_type": "code",
   "execution_count": 234,
   "id": "d14785ec",
   "metadata": {},
   "outputs": [],
   "source": [
    "# googl_data = googl_data.set_index('date')"
   ]
  },
  {
   "cell_type": "code",
   "execution_count": 235,
   "id": "90defcc7",
   "metadata": {},
   "outputs": [
    {
     "data": {
      "text/html": [
       "<div>\n",
       "<style scoped>\n",
       "    .dataframe tbody tr th:only-of-type {\n",
       "        vertical-align: middle;\n",
       "    }\n",
       "\n",
       "    .dataframe tbody tr th {\n",
       "        vertical-align: top;\n",
       "    }\n",
       "\n",
       "    .dataframe thead th {\n",
       "        text-align: right;\n",
       "    }\n",
       "</style>\n",
       "<table border=\"1\" class=\"dataframe\">\n",
       "  <thead>\n",
       "    <tr style=\"text-align: right;\">\n",
       "      <th></th>\n",
       "      <th>date</th>\n",
       "      <th>open</th>\n",
       "      <th>high</th>\n",
       "      <th>low</th>\n",
       "      <th>close</th>\n",
       "      <th>volume</th>\n",
       "    </tr>\n",
       "  </thead>\n",
       "  <tbody>\n",
       "    <tr>\n",
       "      <th>0</th>\n",
       "      <td>2022-07-15</td>\n",
       "      <td>2240.01</td>\n",
       "      <td>2262.81</td>\n",
       "      <td>2218.0000</td>\n",
       "      <td>2235.55</td>\n",
       "      <td>2338456.0</td>\n",
       "    </tr>\n",
       "    <tr>\n",
       "      <th>1</th>\n",
       "      <td>2022-07-14</td>\n",
       "      <td>2204.21</td>\n",
       "      <td>2221.86</td>\n",
       "      <td>2167.4600</td>\n",
       "      <td>2207.35</td>\n",
       "      <td>1850152.0</td>\n",
       "    </tr>\n",
       "    <tr>\n",
       "      <th>2</th>\n",
       "      <td>2022-07-13</td>\n",
       "      <td>2234.02</td>\n",
       "      <td>2283.92</td>\n",
       "      <td>2224.0300</td>\n",
       "      <td>2227.07</td>\n",
       "      <td>2186101.0</td>\n",
       "    </tr>\n",
       "    <tr>\n",
       "      <th>3</th>\n",
       "      <td>2022-07-12</td>\n",
       "      <td>2324.30</td>\n",
       "      <td>2339.48</td>\n",
       "      <td>2273.8044</td>\n",
       "      <td>2280.41</td>\n",
       "      <td>1497985.0</td>\n",
       "    </tr>\n",
       "    <tr>\n",
       "      <th>4</th>\n",
       "      <td>2022-07-11</td>\n",
       "      <td>2359.96</td>\n",
       "      <td>2359.96</td>\n",
       "      <td>2306.6100</td>\n",
       "      <td>2313.53</td>\n",
       "      <td>1562185.0</td>\n",
       "    </tr>\n",
       "  </tbody>\n",
       "</table>\n",
       "</div>"
      ],
      "text/plain": [
       "        date     open     high        low    close     volume\n",
       "0 2022-07-15  2240.01  2262.81  2218.0000  2235.55  2338456.0\n",
       "1 2022-07-14  2204.21  2221.86  2167.4600  2207.35  1850152.0\n",
       "2 2022-07-13  2234.02  2283.92  2224.0300  2227.07  2186101.0\n",
       "3 2022-07-12  2324.30  2339.48  2273.8044  2280.41  1497985.0\n",
       "4 2022-07-11  2359.96  2359.96  2306.6100  2313.53  1562185.0"
      ]
     },
     "execution_count": 235,
     "metadata": {},
     "output_type": "execute_result"
    }
   ],
   "source": [
    "googl_data.head()"
   ]
  },
  {
   "cell_type": "code",
   "execution_count": 236,
   "id": "509c91a3",
   "metadata": {},
   "outputs": [
    {
     "name": "stdout",
     "output_type": "stream",
     "text": [
      "<class 'pandas.core.frame.DataFrame'>\n",
      "RangeIndex: 4508 entries, 0 to 4507\n",
      "Data columns (total 6 columns):\n",
      " #   Column  Non-Null Count  Dtype         \n",
      "---  ------  --------------  -----         \n",
      " 0   date    4508 non-null   datetime64[ns]\n",
      " 1   open    4508 non-null   float64       \n",
      " 2   high    4508 non-null   float64       \n",
      " 3   low     4508 non-null   float64       \n",
      " 4   close   4508 non-null   float64       \n",
      " 5   volume  4508 non-null   float64       \n",
      "dtypes: datetime64[ns](1), float64(5)\n",
      "memory usage: 211.4 KB\n"
     ]
    }
   ],
   "source": [
    "googl_data.info()"
   ]
  },
  {
   "cell_type": "code",
   "execution_count": 237,
   "id": "0abf98f0",
   "metadata": {},
   "outputs": [],
   "source": [
    "data=googl_data.sort_values(by='date')\n",
    "new_dataset=pd.DataFrame(index=range(0,len(googl_data)),columns=['date','close'])\n",
    "new_dataset[\"date\"]=data['date']\n",
    "new_dataset[\"close\"]=data[\"close\"]"
   ]
  },
  {
   "cell_type": "code",
   "execution_count": 238,
   "id": "07f004a5",
   "metadata": {},
   "outputs": [
    {
     "data": {
      "text/html": [
       "<div>\n",
       "<style scoped>\n",
       "    .dataframe tbody tr th:only-of-type {\n",
       "        vertical-align: middle;\n",
       "    }\n",
       "\n",
       "    .dataframe tbody tr th {\n",
       "        vertical-align: top;\n",
       "    }\n",
       "\n",
       "    .dataframe thead th {\n",
       "        text-align: right;\n",
       "    }\n",
       "</style>\n",
       "<table border=\"1\" class=\"dataframe\">\n",
       "  <thead>\n",
       "    <tr style=\"text-align: right;\">\n",
       "      <th></th>\n",
       "      <th>date</th>\n",
       "      <th>open</th>\n",
       "      <th>high</th>\n",
       "      <th>low</th>\n",
       "      <th>close</th>\n",
       "      <th>volume</th>\n",
       "    </tr>\n",
       "  </thead>\n",
       "  <tbody>\n",
       "    <tr>\n",
       "      <th>4507</th>\n",
       "      <td>2004-08-19</td>\n",
       "      <td>100.01</td>\n",
       "      <td>104.06</td>\n",
       "      <td>95.9600</td>\n",
       "      <td>100.335</td>\n",
       "      <td>44659000.0</td>\n",
       "    </tr>\n",
       "    <tr>\n",
       "      <th>4506</th>\n",
       "      <td>2004-08-20</td>\n",
       "      <td>101.01</td>\n",
       "      <td>109.08</td>\n",
       "      <td>100.5000</td>\n",
       "      <td>108.310</td>\n",
       "      <td>22834300.0</td>\n",
       "    </tr>\n",
       "    <tr>\n",
       "      <th>4505</th>\n",
       "      <td>2004-08-23</td>\n",
       "      <td>110.76</td>\n",
       "      <td>113.48</td>\n",
       "      <td>109.0500</td>\n",
       "      <td>109.400</td>\n",
       "      <td>18256100.0</td>\n",
       "    </tr>\n",
       "    <tr>\n",
       "      <th>4504</th>\n",
       "      <td>2004-08-24</td>\n",
       "      <td>111.24</td>\n",
       "      <td>111.60</td>\n",
       "      <td>103.5700</td>\n",
       "      <td>104.870</td>\n",
       "      <td>15247300.0</td>\n",
       "    </tr>\n",
       "    <tr>\n",
       "      <th>4503</th>\n",
       "      <td>2004-08-25</td>\n",
       "      <td>104.76</td>\n",
       "      <td>108.00</td>\n",
       "      <td>103.8800</td>\n",
       "      <td>106.000</td>\n",
       "      <td>9188600.0</td>\n",
       "    </tr>\n",
       "    <tr>\n",
       "      <th>...</th>\n",
       "      <td>...</td>\n",
       "      <td>...</td>\n",
       "      <td>...</td>\n",
       "      <td>...</td>\n",
       "      <td>...</td>\n",
       "      <td>...</td>\n",
       "    </tr>\n",
       "    <tr>\n",
       "      <th>4</th>\n",
       "      <td>2022-07-11</td>\n",
       "      <td>2359.96</td>\n",
       "      <td>2359.96</td>\n",
       "      <td>2306.6100</td>\n",
       "      <td>2313.530</td>\n",
       "      <td>1562185.0</td>\n",
       "    </tr>\n",
       "    <tr>\n",
       "      <th>3</th>\n",
       "      <td>2022-07-12</td>\n",
       "      <td>2324.30</td>\n",
       "      <td>2339.48</td>\n",
       "      <td>2273.8044</td>\n",
       "      <td>2280.410</td>\n",
       "      <td>1497985.0</td>\n",
       "    </tr>\n",
       "    <tr>\n",
       "      <th>2</th>\n",
       "      <td>2022-07-13</td>\n",
       "      <td>2234.02</td>\n",
       "      <td>2283.92</td>\n",
       "      <td>2224.0300</td>\n",
       "      <td>2227.070</td>\n",
       "      <td>2186101.0</td>\n",
       "    </tr>\n",
       "    <tr>\n",
       "      <th>1</th>\n",
       "      <td>2022-07-14</td>\n",
       "      <td>2204.21</td>\n",
       "      <td>2221.86</td>\n",
       "      <td>2167.4600</td>\n",
       "      <td>2207.350</td>\n",
       "      <td>1850152.0</td>\n",
       "    </tr>\n",
       "    <tr>\n",
       "      <th>0</th>\n",
       "      <td>2022-07-15</td>\n",
       "      <td>2240.01</td>\n",
       "      <td>2262.81</td>\n",
       "      <td>2218.0000</td>\n",
       "      <td>2235.550</td>\n",
       "      <td>2338456.0</td>\n",
       "    </tr>\n",
       "  </tbody>\n",
       "</table>\n",
       "<p>4508 rows × 6 columns</p>\n",
       "</div>"
      ],
      "text/plain": [
       "           date     open     high        low     close      volume\n",
       "4507 2004-08-19   100.01   104.06    95.9600   100.335  44659000.0\n",
       "4506 2004-08-20   101.01   109.08   100.5000   108.310  22834300.0\n",
       "4505 2004-08-23   110.76   113.48   109.0500   109.400  18256100.0\n",
       "4504 2004-08-24   111.24   111.60   103.5700   104.870  15247300.0\n",
       "4503 2004-08-25   104.76   108.00   103.8800   106.000   9188600.0\n",
       "...         ...      ...      ...        ...       ...         ...\n",
       "4    2022-07-11  2359.96  2359.96  2306.6100  2313.530   1562185.0\n",
       "3    2022-07-12  2324.30  2339.48  2273.8044  2280.410   1497985.0\n",
       "2    2022-07-13  2234.02  2283.92  2224.0300  2227.070   2186101.0\n",
       "1    2022-07-14  2204.21  2221.86  2167.4600  2207.350   1850152.0\n",
       "0    2022-07-15  2240.01  2262.81  2218.0000  2235.550   2338456.0\n",
       "\n",
       "[4508 rows x 6 columns]"
      ]
     },
     "execution_count": 238,
     "metadata": {},
     "output_type": "execute_result"
    }
   ],
   "source": [
    "data"
   ]
  },
  {
   "cell_type": "code",
   "execution_count": 239,
   "id": "7c52a8d1",
   "metadata": {},
   "outputs": [],
   "source": [
    "new_dataset=new_dataset.sort_values(by='date')"
   ]
  },
  {
   "cell_type": "code",
   "execution_count": 240,
   "id": "d860ee71",
   "metadata": {},
   "outputs": [
    {
     "data": {
      "text/html": [
       "<div>\n",
       "<style scoped>\n",
       "    .dataframe tbody tr th:only-of-type {\n",
       "        vertical-align: middle;\n",
       "    }\n",
       "\n",
       "    .dataframe tbody tr th {\n",
       "        vertical-align: top;\n",
       "    }\n",
       "\n",
       "    .dataframe thead th {\n",
       "        text-align: right;\n",
       "    }\n",
       "</style>\n",
       "<table border=\"1\" class=\"dataframe\">\n",
       "  <thead>\n",
       "    <tr style=\"text-align: right;\">\n",
       "      <th></th>\n",
       "      <th>date</th>\n",
       "      <th>close</th>\n",
       "    </tr>\n",
       "  </thead>\n",
       "  <tbody>\n",
       "    <tr>\n",
       "      <th>4507</th>\n",
       "      <td>2004-08-19</td>\n",
       "      <td>100.335</td>\n",
       "    </tr>\n",
       "    <tr>\n",
       "      <th>4506</th>\n",
       "      <td>2004-08-20</td>\n",
       "      <td>108.310</td>\n",
       "    </tr>\n",
       "    <tr>\n",
       "      <th>4505</th>\n",
       "      <td>2004-08-23</td>\n",
       "      <td>109.400</td>\n",
       "    </tr>\n",
       "    <tr>\n",
       "      <th>4504</th>\n",
       "      <td>2004-08-24</td>\n",
       "      <td>104.870</td>\n",
       "    </tr>\n",
       "    <tr>\n",
       "      <th>4503</th>\n",
       "      <td>2004-08-25</td>\n",
       "      <td>106.000</td>\n",
       "    </tr>\n",
       "  </tbody>\n",
       "</table>\n",
       "</div>"
      ],
      "text/plain": [
       "           date    close\n",
       "4507 2004-08-19  100.335\n",
       "4506 2004-08-20  108.310\n",
       "4505 2004-08-23  109.400\n",
       "4504 2004-08-24  104.870\n",
       "4503 2004-08-25  106.000"
      ]
     },
     "execution_count": 240,
     "metadata": {},
     "output_type": "execute_result"
    }
   ],
   "source": [
    "new_dataset.head()"
   ]
  },
  {
   "cell_type": "code",
   "execution_count": 241,
   "id": "334a4a11",
   "metadata": {},
   "outputs": [
    {
     "data": {
      "text/html": [
       "<div>\n",
       "<style scoped>\n",
       "    .dataframe tbody tr th:only-of-type {\n",
       "        vertical-align: middle;\n",
       "    }\n",
       "\n",
       "    .dataframe tbody tr th {\n",
       "        vertical-align: top;\n",
       "    }\n",
       "\n",
       "    .dataframe thead th {\n",
       "        text-align: right;\n",
       "    }\n",
       "</style>\n",
       "<table border=\"1\" class=\"dataframe\">\n",
       "  <thead>\n",
       "    <tr style=\"text-align: right;\">\n",
       "      <th></th>\n",
       "      <th>date</th>\n",
       "      <th>close</th>\n",
       "    </tr>\n",
       "  </thead>\n",
       "  <tbody>\n",
       "    <tr>\n",
       "      <th>4</th>\n",
       "      <td>2022-07-11</td>\n",
       "      <td>2313.53</td>\n",
       "    </tr>\n",
       "    <tr>\n",
       "      <th>3</th>\n",
       "      <td>2022-07-12</td>\n",
       "      <td>2280.41</td>\n",
       "    </tr>\n",
       "    <tr>\n",
       "      <th>2</th>\n",
       "      <td>2022-07-13</td>\n",
       "      <td>2227.07</td>\n",
       "    </tr>\n",
       "    <tr>\n",
       "      <th>1</th>\n",
       "      <td>2022-07-14</td>\n",
       "      <td>2207.35</td>\n",
       "    </tr>\n",
       "    <tr>\n",
       "      <th>0</th>\n",
       "      <td>2022-07-15</td>\n",
       "      <td>2235.55</td>\n",
       "    </tr>\n",
       "  </tbody>\n",
       "</table>\n",
       "</div>"
      ],
      "text/plain": [
       "        date    close\n",
       "4 2022-07-11  2313.53\n",
       "3 2022-07-12  2280.41\n",
       "2 2022-07-13  2227.07\n",
       "1 2022-07-14  2207.35\n",
       "0 2022-07-15  2235.55"
      ]
     },
     "execution_count": 241,
     "metadata": {},
     "output_type": "execute_result"
    }
   ],
   "source": [
    "new_dataset.tail()"
   ]
  },
  {
   "cell_type": "code",
   "execution_count": 242,
   "id": "80d61ed3",
   "metadata": {},
   "outputs": [],
   "source": [
    "# new_dataset = new_dataset.set_index('date')"
   ]
  },
  {
   "cell_type": "code",
   "execution_count": 243,
   "id": "232836b1",
   "metadata": {},
   "outputs": [
    {
     "data": {
      "text/plain": [
       "(4508, 2)"
      ]
     },
     "execution_count": 243,
     "metadata": {},
     "output_type": "execute_result"
    }
   ],
   "source": [
    "new_dataset.shape"
   ]
  },
  {
   "cell_type": "code",
   "execution_count": 244,
   "id": "ca640294",
   "metadata": {},
   "outputs": [
    {
     "data": {
      "text/html": [
       "<div>\n",
       "<style scoped>\n",
       "    .dataframe tbody tr th:only-of-type {\n",
       "        vertical-align: middle;\n",
       "    }\n",
       "\n",
       "    .dataframe tbody tr th {\n",
       "        vertical-align: top;\n",
       "    }\n",
       "\n",
       "    .dataframe thead th {\n",
       "        text-align: right;\n",
       "    }\n",
       "</style>\n",
       "<table border=\"1\" class=\"dataframe\">\n",
       "  <thead>\n",
       "    <tr style=\"text-align: right;\">\n",
       "      <th></th>\n",
       "      <th>date</th>\n",
       "      <th>close</th>\n",
       "    </tr>\n",
       "  </thead>\n",
       "  <tbody>\n",
       "    <tr>\n",
       "      <th>4507</th>\n",
       "      <td>2004-08-19</td>\n",
       "      <td>100.335</td>\n",
       "    </tr>\n",
       "    <tr>\n",
       "      <th>4506</th>\n",
       "      <td>2004-08-20</td>\n",
       "      <td>108.310</td>\n",
       "    </tr>\n",
       "    <tr>\n",
       "      <th>4505</th>\n",
       "      <td>2004-08-23</td>\n",
       "      <td>109.400</td>\n",
       "    </tr>\n",
       "    <tr>\n",
       "      <th>4504</th>\n",
       "      <td>2004-08-24</td>\n",
       "      <td>104.870</td>\n",
       "    </tr>\n",
       "    <tr>\n",
       "      <th>4503</th>\n",
       "      <td>2004-08-25</td>\n",
       "      <td>106.000</td>\n",
       "    </tr>\n",
       "    <tr>\n",
       "      <th>...</th>\n",
       "      <td>...</td>\n",
       "      <td>...</td>\n",
       "    </tr>\n",
       "    <tr>\n",
       "      <th>4</th>\n",
       "      <td>2022-07-11</td>\n",
       "      <td>2313.530</td>\n",
       "    </tr>\n",
       "    <tr>\n",
       "      <th>3</th>\n",
       "      <td>2022-07-12</td>\n",
       "      <td>2280.410</td>\n",
       "    </tr>\n",
       "    <tr>\n",
       "      <th>2</th>\n",
       "      <td>2022-07-13</td>\n",
       "      <td>2227.070</td>\n",
       "    </tr>\n",
       "    <tr>\n",
       "      <th>1</th>\n",
       "      <td>2022-07-14</td>\n",
       "      <td>2207.350</td>\n",
       "    </tr>\n",
       "    <tr>\n",
       "      <th>0</th>\n",
       "      <td>2022-07-15</td>\n",
       "      <td>2235.550</td>\n",
       "    </tr>\n",
       "  </tbody>\n",
       "</table>\n",
       "<p>4508 rows × 2 columns</p>\n",
       "</div>"
      ],
      "text/plain": [
       "           date     close\n",
       "4507 2004-08-19   100.335\n",
       "4506 2004-08-20   108.310\n",
       "4505 2004-08-23   109.400\n",
       "4504 2004-08-24   104.870\n",
       "4503 2004-08-25   106.000\n",
       "...         ...       ...\n",
       "4    2022-07-11  2313.530\n",
       "3    2022-07-12  2280.410\n",
       "2    2022-07-13  2227.070\n",
       "1    2022-07-14  2207.350\n",
       "0    2022-07-15  2235.550\n",
       "\n",
       "[4508 rows x 2 columns]"
      ]
     },
     "execution_count": 244,
     "metadata": {},
     "output_type": "execute_result"
    }
   ],
   "source": [
    "new_dataset"
   ]
  },
  {
   "cell_type": "code",
   "execution_count": 245,
   "id": "6539b602",
   "metadata": {},
   "outputs": [],
   "source": [
    "new_dataset.index=new_dataset.date\n",
    "new_dataset.drop(\"date\",axis=1,inplace=True)\n",
    "\n",
    "final_dataset=new_dataset.values"
   ]
  },
  {
   "cell_type": "code",
   "execution_count": 246,
   "id": "9010b2fb",
   "metadata": {},
   "outputs": [
    {
     "data": {
      "text/html": [
       "<div>\n",
       "<style scoped>\n",
       "    .dataframe tbody tr th:only-of-type {\n",
       "        vertical-align: middle;\n",
       "    }\n",
       "\n",
       "    .dataframe tbody tr th {\n",
       "        vertical-align: top;\n",
       "    }\n",
       "\n",
       "    .dataframe thead th {\n",
       "        text-align: right;\n",
       "    }\n",
       "</style>\n",
       "<table border=\"1\" class=\"dataframe\">\n",
       "  <thead>\n",
       "    <tr style=\"text-align: right;\">\n",
       "      <th></th>\n",
       "      <th>close</th>\n",
       "    </tr>\n",
       "    <tr>\n",
       "      <th>date</th>\n",
       "      <th></th>\n",
       "    </tr>\n",
       "  </thead>\n",
       "  <tbody>\n",
       "    <tr>\n",
       "      <th>2004-08-19</th>\n",
       "      <td>100.335</td>\n",
       "    </tr>\n",
       "    <tr>\n",
       "      <th>2004-08-20</th>\n",
       "      <td>108.310</td>\n",
       "    </tr>\n",
       "    <tr>\n",
       "      <th>2004-08-23</th>\n",
       "      <td>109.400</td>\n",
       "    </tr>\n",
       "    <tr>\n",
       "      <th>2004-08-24</th>\n",
       "      <td>104.870</td>\n",
       "    </tr>\n",
       "    <tr>\n",
       "      <th>2004-08-25</th>\n",
       "      <td>106.000</td>\n",
       "    </tr>\n",
       "    <tr>\n",
       "      <th>...</th>\n",
       "      <td>...</td>\n",
       "    </tr>\n",
       "    <tr>\n",
       "      <th>2022-07-11</th>\n",
       "      <td>2313.530</td>\n",
       "    </tr>\n",
       "    <tr>\n",
       "      <th>2022-07-12</th>\n",
       "      <td>2280.410</td>\n",
       "    </tr>\n",
       "    <tr>\n",
       "      <th>2022-07-13</th>\n",
       "      <td>2227.070</td>\n",
       "    </tr>\n",
       "    <tr>\n",
       "      <th>2022-07-14</th>\n",
       "      <td>2207.350</td>\n",
       "    </tr>\n",
       "    <tr>\n",
       "      <th>2022-07-15</th>\n",
       "      <td>2235.550</td>\n",
       "    </tr>\n",
       "  </tbody>\n",
       "</table>\n",
       "<p>4508 rows × 1 columns</p>\n",
       "</div>"
      ],
      "text/plain": [
       "               close\n",
       "date                \n",
       "2004-08-19   100.335\n",
       "2004-08-20   108.310\n",
       "2004-08-23   109.400\n",
       "2004-08-24   104.870\n",
       "2004-08-25   106.000\n",
       "...              ...\n",
       "2022-07-11  2313.530\n",
       "2022-07-12  2280.410\n",
       "2022-07-13  2227.070\n",
       "2022-07-14  2207.350\n",
       "2022-07-15  2235.550\n",
       "\n",
       "[4508 rows x 1 columns]"
      ]
     },
     "execution_count": 246,
     "metadata": {},
     "output_type": "execute_result"
    }
   ],
   "source": [
    "new_dataset"
   ]
  },
  {
   "cell_type": "code",
   "execution_count": 247,
   "id": "71467582",
   "metadata": {},
   "outputs": [
    {
     "data": {
      "text/plain": [
       "array([[ 100.335],\n",
       "       [ 108.31 ],\n",
       "       [ 109.4  ],\n",
       "       ...,\n",
       "       [2227.07 ],\n",
       "       [2207.35 ],\n",
       "       [2235.55 ]])"
      ]
     },
     "execution_count": 247,
     "metadata": {},
     "output_type": "execute_result"
    }
   ],
   "source": [
    "final_dataset"
   ]
  },
  {
   "cell_type": "code",
   "execution_count": 248,
   "id": "9a583f9e",
   "metadata": {},
   "outputs": [],
   "source": [
    "train_data=final_dataset[0:3605,:]\n",
    "valid_data=final_dataset[3605:,:]"
   ]
  },
  {
   "cell_type": "code",
   "execution_count": 264,
   "id": "3955367d",
   "metadata": {},
   "outputs": [
    {
     "data": {
      "text/html": [
       "<div>\n",
       "<style scoped>\n",
       "    .dataframe tbody tr th:only-of-type {\n",
       "        vertical-align: middle;\n",
       "    }\n",
       "\n",
       "    .dataframe tbody tr th {\n",
       "        vertical-align: top;\n",
       "    }\n",
       "\n",
       "    .dataframe thead th {\n",
       "        text-align: right;\n",
       "    }\n",
       "</style>\n",
       "<table border=\"1\" class=\"dataframe\">\n",
       "  <thead>\n",
       "    <tr style=\"text-align: right;\">\n",
       "      <th></th>\n",
       "      <th>close</th>\n",
       "    </tr>\n",
       "    <tr>\n",
       "      <th>date</th>\n",
       "      <th></th>\n",
       "    </tr>\n",
       "  </thead>\n",
       "  <tbody>\n",
       "    <tr>\n",
       "      <th>2004-08-19</th>\n",
       "      <td>100.335</td>\n",
       "    </tr>\n",
       "    <tr>\n",
       "      <th>2004-08-20</th>\n",
       "      <td>108.310</td>\n",
       "    </tr>\n",
       "    <tr>\n",
       "      <th>2004-08-23</th>\n",
       "      <td>109.400</td>\n",
       "    </tr>\n",
       "    <tr>\n",
       "      <th>2004-08-24</th>\n",
       "      <td>104.870</td>\n",
       "    </tr>\n",
       "    <tr>\n",
       "      <th>2004-08-25</th>\n",
       "      <td>106.000</td>\n",
       "    </tr>\n",
       "    <tr>\n",
       "      <th>...</th>\n",
       "      <td>...</td>\n",
       "    </tr>\n",
       "    <tr>\n",
       "      <th>2018-12-06</th>\n",
       "      <td>1078.080</td>\n",
       "    </tr>\n",
       "    <tr>\n",
       "      <th>2018-12-07</th>\n",
       "      <td>1046.580</td>\n",
       "    </tr>\n",
       "    <tr>\n",
       "      <th>2018-12-10</th>\n",
       "      <td>1053.180</td>\n",
       "    </tr>\n",
       "    <tr>\n",
       "      <th>2018-12-11</th>\n",
       "      <td>1061.650</td>\n",
       "    </tr>\n",
       "    <tr>\n",
       "      <th>2018-12-12</th>\n",
       "      <td>1073.730</td>\n",
       "    </tr>\n",
       "  </tbody>\n",
       "</table>\n",
       "<p>3605 rows × 1 columns</p>\n",
       "</div>"
      ],
      "text/plain": [
       "               close\n",
       "date                \n",
       "2004-08-19   100.335\n",
       "2004-08-20   108.310\n",
       "2004-08-23   109.400\n",
       "2004-08-24   104.870\n",
       "2004-08-25   106.000\n",
       "...              ...\n",
       "2018-12-06  1078.080\n",
       "2018-12-07  1046.580\n",
       "2018-12-10  1053.180\n",
       "2018-12-11  1061.650\n",
       "2018-12-12  1073.730\n",
       "\n",
       "[3605 rows x 1 columns]"
      ]
     },
     "execution_count": 264,
     "metadata": {},
     "output_type": "execute_result"
    }
   ],
   "source": [
    "train_data"
   ]
  },
  {
   "cell_type": "code",
   "execution_count": 249,
   "id": "0410fa73",
   "metadata": {},
   "outputs": [
    {
     "name": "stdout",
     "output_type": "stream",
     "text": [
      "3605 903\n"
     ]
    }
   ],
   "source": [
    "print(len(train_data),len(valid_data))"
   ]
  },
  {
   "cell_type": "code",
   "execution_count": 250,
   "id": "ec4cdf71",
   "metadata": {},
   "outputs": [],
   "source": [
    "from sklearn.preprocessing import MinMaxScaler\n",
    "scaler=MinMaxScaler(feature_range=(0,1))\n",
    "scaled_data=scaler.fit_transform(final_dataset)"
   ]
  },
  {
   "cell_type": "code",
   "execution_count": 251,
   "id": "f26e8706",
   "metadata": {},
   "outputs": [],
   "source": [
    "x_train_data,y_train_data=[],[]\n",
    "\n",
    "for i in range(60,len(train_data)):\n",
    "    x_train_data.append(scaled_data[i-60:i,0])\n",
    "    y_train_data.append(scaled_data[i,0])"
   ]
  },
  {
   "cell_type": "code",
   "execution_count": 252,
   "id": "53645f35",
   "metadata": {},
   "outputs": [],
   "source": [
    "x_train_data,y_train_data=np.array(x_train_data),np.array(y_train_data)\n",
    "\n",
    "x_train_data=np.reshape(x_train_data,(x_train_data.shape[0],x_train_data.shape[1],1))"
   ]
  },
  {
   "cell_type": "code",
   "execution_count": 253,
   "id": "d11a7903",
   "metadata": {},
   "outputs": [
    {
     "data": {
      "text/plain": [
       "(3545, 60, 1)"
      ]
     },
     "execution_count": 253,
     "metadata": {},
     "output_type": "execute_result"
    }
   ],
   "source": [
    "x_train_data.shape"
   ]
  },
  {
   "cell_type": "code",
   "execution_count": 254,
   "id": "9fb39871",
   "metadata": {},
   "outputs": [],
   "source": [
    "lstm_model=Sequential()\n",
    "lstm_model.add(LSTM(units=50,return_sequences=True,input_shape=(x_train_data.shape[1],1)))\n",
    "lstm_model.add(LSTM(units=50))\n",
    "lstm_model.add(Dense(1))\n",
    "# lstm_model = Sequential()\n",
    "# lstm_model.add(LSTM(128, return_sequences=True, input_shape= (x_train_data.shape[1], 1)))\n",
    "# lstm_model.add(LSTM(64, return_sequences=False))\n",
    "# lstm_model.add(Dense(25))\n",
    "# lstm_model.add(Dense(1))\n",
    "# model.compile(optimizer='adam',loss='mean_squared_error')\n",
    "# model.fit(X_train,y_train,epochs=100,batch_size=32)"
   ]
  },
  {
   "cell_type": "code",
   "execution_count": 255,
   "id": "c8e16e94",
   "metadata": {},
   "outputs": [
    {
     "name": "stdout",
     "output_type": "stream",
     "text": [
      "Epoch 1/5\n",
      "111/111 [==============================] - 19s 84ms/step - loss: 0.0017 - mean_squared_error: 0.0017\n",
      "Epoch 2/5\n",
      "111/111 [==============================] - 10s 91ms/step - loss: 1.6618e-04 - mean_squared_error: 1.6618e-04\n",
      "Epoch 3/5\n",
      "111/111 [==============================] - 10s 86ms/step - loss: 1.7034e-04 - mean_squared_error: 1.7034e-04\n",
      "Epoch 4/5\n",
      "111/111 [==============================] - 10s 90ms/step - loss: 1.4462e-04 - mean_squared_error: 1.4462e-04\n",
      "Epoch 5/5\n",
      "111/111 [==============================] - 10s 88ms/step - loss: 1.1762e-04 - mean_squared_error: 1.1762e-04\n"
     ]
    },
    {
     "data": {
      "text/plain": [
       "<keras.callbacks.History at 0x26013b796a0>"
      ]
     },
     "execution_count": 255,
     "metadata": {},
     "output_type": "execute_result"
    }
   ],
   "source": [
    "from keras import metrics\n",
    "lstm_model.compile(loss='mean_squared_error',optimizer='adam',metrics=[metrics.MeanSquaredError()])\n",
    "lstm_model.fit(x_train_data,y_train_data,epochs=5,batch_size=32,verbose=True)"
   ]
  },
  {
   "cell_type": "code",
   "execution_count": 256,
   "id": "4b9dc014",
   "metadata": {},
   "outputs": [],
   "source": [
    "inputs_data=new_dataset[len(new_dataset)-len(valid_data)-60:].values\n",
    "inputs_data=inputs_data.reshape(-1,1)\n",
    "inputs_data=scaler.transform(inputs_data)"
   ]
  },
  {
   "cell_type": "code",
   "execution_count": 257,
   "id": "5dcff0a0",
   "metadata": {},
   "outputs": [
    {
     "data": {
      "text/plain": [
       "(963, 1)"
      ]
     },
     "execution_count": 257,
     "metadata": {},
     "output_type": "execute_result"
    }
   ],
   "source": [
    "inputs_data.shape"
   ]
  },
  {
   "cell_type": "code",
   "execution_count": 258,
   "id": "7db0bf00",
   "metadata": {},
   "outputs": [
    {
     "name": "stderr",
     "output_type": "stream",
     "text": [
      "C:\\Users\\NANCYM~1\\AppData\\Local\\Temp/ipykernel_17948/3801250360.py:14: SettingWithCopyWarning: \n",
      "A value is trying to be set on a copy of a slice from a DataFrame.\n",
      "Try using .loc[row_indexer,col_indexer] = value instead\n",
      "\n",
      "See the caveats in the documentation: https://pandas.pydata.org/pandas-docs/stable/user_guide/indexing.html#returning-a-view-versus-a-copy\n",
      "  valid_data['Predictions']=closing_price\n"
     ]
    }
   ],
   "source": [
    "X_test=[]\n",
    "for i in range(60,inputs_data.shape[0]):\n",
    "    X_test.append(inputs_data[i-60:i,0])\n",
    "X_test=np.array(X_test)\n",
    "y_test = final_dataset[3605:, :]\n",
    "X_test=np.reshape(X_test,(X_test.shape[0],X_test.shape[1],1))\n",
    "closing_price=lstm_model.predict(X_test)\n",
    "closing_price=scaler.inverse_transform(closing_price)\n",
    "\n",
    "lstm_model.save(\"saved_lstm_model.h5\")\n",
    "\n",
    "train_data=new_dataset[:3605]\n",
    "valid_data=new_dataset[3605:]\n",
    "valid_data['Predictions']=closing_price\n",
    "# fig, ax = plt.subplots(figsize=(16,8))\n",
    "# ax.plot(train_data[\"close\"])\n",
    "# ax.plot(valid_data[['close',\"Predictions\"]])\n",
    "# plt.legend(['Train', 'Val', 'Predictions'])"
   ]
  },
  {
   "cell_type": "code",
   "execution_count": 259,
   "id": "37b20748",
   "metadata": {},
   "outputs": [
    {
     "name": "stdout",
     "output_type": "stream",
     "text": [
      "903 903\n"
     ]
    }
   ],
   "source": [
    "print(len(closing_price),len(y_test))"
   ]
  },
  {
   "cell_type": "code",
   "execution_count": 260,
   "id": "31b31aa2",
   "metadata": {},
   "outputs": [
    {
     "data": {
      "text/plain": [
       "75.05102043819834"
      ]
     },
     "execution_count": 260,
     "metadata": {},
     "output_type": "execute_result"
    }
   ],
   "source": [
    "rmse = np.sqrt(np.mean(((closing_price - y_test) ** 2)))\n",
    "rmse"
   ]
  },
  {
   "cell_type": "code",
   "execution_count": 261,
   "id": "eaf535c0",
   "metadata": {},
   "outputs": [
    {
     "name": "stdout",
     "output_type": "stream",
     "text": [
      "MSE: 5632.655669\n"
     ]
    }
   ],
   "source": [
    "from sklearn.metrics import mean_squared_error\n",
    "mse = mean_squared_error(y_test, closing_price)\n",
    "print('MSE: %f' % mse)"
   ]
  },
  {
   "cell_type": "code",
   "execution_count": 262,
   "id": "7846ff8f",
   "metadata": {},
   "outputs": [
    {
     "name": "stdout",
     "output_type": "stream",
     "text": [
      "R2_score: 0.985993\n"
     ]
    }
   ],
   "source": [
    "from sklearn.metrics import r2_score\n",
    "r2 = r2_score(y_test, closing_price)\n",
    "print('R2_score: %f' % r2)"
   ]
  },
  {
   "cell_type": "code",
   "execution_count": 263,
   "id": "283e1ceb",
   "metadata": {},
   "outputs": [
    {
     "data": {
      "text/plain": [
       "<matplotlib.legend.Legend at 0x26024501190>"
      ]
     },
     "execution_count": 263,
     "metadata": {},
     "output_type": "execute_result"
    },
    {
     "data": {
      "image/png": "[encoded data removed]",
      "text/plain": [
       "<Figure size 1152x576 with 1 Axes>"
      ]
     },
     "metadata": {
      "needs_background": "light"
     },
     "output_type": "display_data"
    }
   ],
   "source": [
    "fig, ax = plt.subplots(figsize=(16,8))\n",
    "ax.plot(train_data[\"close\"])\n",
    "ax.plot(valid_data[['close',\"Predictions\"]])\n",
    "plt.legend(['Train', 'Val', 'Predictions'])"
   ]
  },
  {
   "cell_type": "code",
   "execution_count": 155,
   "id": "7a873865",
   "metadata": {},
   "outputs": [
    {
     "name": "stderr",
     "output_type": "stream",
     "text": [
      "C:\\Users\\NANCYM~1\\AppData\\Local\\Temp/ipykernel_17948/2444764876.py:2: SettingWithCopyWarning: \n",
      "A value is trying to be set on a copy of a slice from a DataFrame.\n",
      "Try using .loc[row_indexer,col_indexer] = value instead\n",
      "\n",
      "See the caveats in the documentation: https://pandas.pydata.org/pandas-docs/stable/user_guide/indexing.html#returning-a-view-versus-a-copy\n",
      "  valid['Predictions'] = closing_price\n"
     ]
    }
   ],
   "source": [
    "valid = data[3605:]\n",
    "valid['Predictions'] = closing_price"
   ]
  },
  {
   "cell_type": "code",
   "execution_count": 156,
   "id": "7cb63716",
   "metadata": {},
   "outputs": [
    {
     "data": {
      "text/html": [
       "<div>\n",
       "<style scoped>\n",
       "    .dataframe tbody tr th:only-of-type {\n",
       "        vertical-align: middle;\n",
       "    }\n",
       "\n",
       "    .dataframe tbody tr th {\n",
       "        vertical-align: top;\n",
       "    }\n",
       "\n",
       "    .dataframe thead th {\n",
       "        text-align: right;\n",
       "    }\n",
       "</style>\n",
       "<table border=\"1\" class=\"dataframe\">\n",
       "  <thead>\n",
       "    <tr style=\"text-align: right;\">\n",
       "      <th></th>\n",
       "      <th>date</th>\n",
       "      <th>open</th>\n",
       "      <th>high</th>\n",
       "      <th>low</th>\n",
       "      <th>close</th>\n",
       "      <th>volume</th>\n",
       "      <th>Predictions</th>\n",
       "    </tr>\n",
       "  </thead>\n",
       "  <tbody>\n",
       "    <tr>\n",
       "      <th>902</th>\n",
       "      <td>2018-12-13</td>\n",
       "      <td>1075.67</td>\n",
       "      <td>1088.42</td>\n",
       "      <td>1064.9900</td>\n",
       "      <td>1073.54</td>\n",
       "      <td>1249403.0</td>\n",
       "      <td>1046.310791</td>\n",
       "    </tr>\n",
       "    <tr>\n",
       "      <th>901</th>\n",
       "      <td>2018-12-14</td>\n",
       "      <td>1060.02</td>\n",
       "      <td>1071.72</td>\n",
       "      <td>1049.3700</td>\n",
       "      <td>1051.71</td>\n",
       "      <td>1817949.0</td>\n",
       "      <td>1045.685181</td>\n",
       "    </tr>\n",
       "    <tr>\n",
       "      <th>900</th>\n",
       "      <td>2018-12-17</td>\n",
       "      <td>1047.01</td>\n",
       "      <td>1062.38</td>\n",
       "      <td>1016.6300</td>\n",
       "      <td>1025.65</td>\n",
       "      <td>2496551.0</td>\n",
       "      <td>1044.011963</td>\n",
       "    </tr>\n",
       "    <tr>\n",
       "      <th>899</th>\n",
       "      <td>2018-12-18</td>\n",
       "      <td>1034.00</td>\n",
       "      <td>1059.69</td>\n",
       "      <td>1030.4800</td>\n",
       "      <td>1043.41</td>\n",
       "      <td>2182019.0</td>\n",
       "      <td>1040.260498</td>\n",
       "    </tr>\n",
       "    <tr>\n",
       "      <th>898</th>\n",
       "      <td>2018-12-19</td>\n",
       "      <td>1047.29</td>\n",
       "      <td>1075.71</td>\n",
       "      <td>1019.4300</td>\n",
       "      <td>1035.46</td>\n",
       "      <td>2913237.0</td>\n",
       "      <td>1036.212158</td>\n",
       "    </tr>\n",
       "    <tr>\n",
       "      <th>...</th>\n",
       "      <td>...</td>\n",
       "      <td>...</td>\n",
       "      <td>...</td>\n",
       "      <td>...</td>\n",
       "      <td>...</td>\n",
       "      <td>...</td>\n",
       "      <td>...</td>\n",
       "    </tr>\n",
       "    <tr>\n",
       "      <th>4</th>\n",
       "      <td>2022-07-11</td>\n",
       "      <td>2359.96</td>\n",
       "      <td>2359.96</td>\n",
       "      <td>2306.6100</td>\n",
       "      <td>2313.53</td>\n",
       "      <td>1562185.0</td>\n",
       "      <td>2145.734375</td>\n",
       "    </tr>\n",
       "    <tr>\n",
       "      <th>3</th>\n",
       "      <td>2022-07-12</td>\n",
       "      <td>2324.30</td>\n",
       "      <td>2339.48</td>\n",
       "      <td>2273.8044</td>\n",
       "      <td>2280.41</td>\n",
       "      <td>1497985.0</td>\n",
       "      <td>2159.916992</td>\n",
       "    </tr>\n",
       "    <tr>\n",
       "      <th>2</th>\n",
       "      <td>2022-07-13</td>\n",
       "      <td>2234.02</td>\n",
       "      <td>2283.92</td>\n",
       "      <td>2224.0300</td>\n",
       "      <td>2227.07</td>\n",
       "      <td>2186101.0</td>\n",
       "      <td>2170.030273</td>\n",
       "    </tr>\n",
       "    <tr>\n",
       "      <th>1</th>\n",
       "      <td>2022-07-14</td>\n",
       "      <td>2204.21</td>\n",
       "      <td>2221.86</td>\n",
       "      <td>2167.4600</td>\n",
       "      <td>2207.35</td>\n",
       "      <td>1850152.0</td>\n",
       "      <td>2173.268799</td>\n",
       "    </tr>\n",
       "    <tr>\n",
       "      <th>0</th>\n",
       "      <td>2022-07-15</td>\n",
       "      <td>2240.01</td>\n",
       "      <td>2262.81</td>\n",
       "      <td>2218.0000</td>\n",
       "      <td>2235.55</td>\n",
       "      <td>2338456.0</td>\n",
       "      <td>2170.250244</td>\n",
       "    </tr>\n",
       "  </tbody>\n",
       "</table>\n",
       "<p>903 rows × 7 columns</p>\n",
       "</div>"
      ],
      "text/plain": [
       "          date     open     high        low    close     volume  Predictions\n",
       "902 2018-12-13  1075.67  1088.42  1064.9900  1073.54  1249403.0  1046.310791\n",
       "901 2018-12-14  1060.02  1071.72  1049.3700  1051.71  1817949.0  1045.685181\n",
       "900 2018-12-17  1047.01  1062.38  1016.6300  1025.65  2496551.0  1044.011963\n",
       "899 2018-12-18  1034.00  1059.69  1030.4800  1043.41  2182019.0  1040.260498\n",
       "898 2018-12-19  1047.29  1075.71  1019.4300  1035.46  2913237.0  1036.212158\n",
       "..         ...      ...      ...        ...      ...        ...          ...\n",
       "4   2022-07-11  2359.96  2359.96  2306.6100  2313.53  1562185.0  2145.734375\n",
       "3   2022-07-12  2324.30  2339.48  2273.8044  2280.41  1497985.0  2159.916992\n",
       "2   2022-07-13  2234.02  2283.92  2224.0300  2227.07  2186101.0  2170.030273\n",
       "1   2022-07-14  2204.21  2221.86  2167.4600  2207.35  1850152.0  2173.268799\n",
       "0   2022-07-15  2240.01  2262.81  2218.0000  2235.55  2338456.0  2170.250244\n",
       "\n",
       "[903 rows x 7 columns]"
      ]
     },
     "execution_count": 156,
     "metadata": {},
     "output_type": "execute_result"
    }
   ],
   "source": [
    "valid"
   ]
  },
  {
   "cell_type": "markdown",
   "id": "36b05473",
   "metadata": {},
   "source": [
    "# ARIMA Model"
   ]
  },
  {
   "cell_type": "code",
   "execution_count": 180,
   "id": "3da6669b",
   "metadata": {},
   "outputs": [],
   "source": [
    "googl_data, googl_meta = ts.get_daily(symbol='GOOGL', outputsize='full')"
   ]
  },
  {
   "cell_type": "code",
   "execution_count": 183,
   "id": "edbf515c",
   "metadata": {},
   "outputs": [],
   "source": [
    "googl_data.rename(columns={googl_data.columns[0]: 'open',googl_data.columns[1]: 'high',googl_data.columns[2]: 'low',googl_data.columns[3]: 'close',googl_data.columns[4]: 'volume'},inplace=True)"
   ]
  },
  {
   "cell_type": "code",
   "execution_count": 184,
   "id": "7aa78418",
   "metadata": {},
   "outputs": [
    {
     "data": {
      "text/html": [
       "<div>\n",
       "<style scoped>\n",
       "    .dataframe tbody tr th:only-of-type {\n",
       "        vertical-align: middle;\n",
       "    }\n",
       "\n",
       "    .dataframe tbody tr th {\n",
       "        vertical-align: top;\n",
       "    }\n",
       "\n",
       "    .dataframe thead th {\n",
       "        text-align: right;\n",
       "    }\n",
       "</style>\n",
       "<table border=\"1\" class=\"dataframe\">\n",
       "  <thead>\n",
       "    <tr style=\"text-align: right;\">\n",
       "      <th></th>\n",
       "      <th>open</th>\n",
       "      <th>high</th>\n",
       "      <th>low</th>\n",
       "      <th>close</th>\n",
       "      <th>volume</th>\n",
       "    </tr>\n",
       "    <tr>\n",
       "      <th>date</th>\n",
       "      <th></th>\n",
       "      <th></th>\n",
       "      <th></th>\n",
       "      <th></th>\n",
       "      <th></th>\n",
       "    </tr>\n",
       "  </thead>\n",
       "  <tbody>\n",
       "    <tr>\n",
       "      <th>2022-07-15</th>\n",
       "      <td>2240.01</td>\n",
       "      <td>2262.81</td>\n",
       "      <td>2218.0000</td>\n",
       "      <td>2235.55</td>\n",
       "      <td>2338456.0</td>\n",
       "    </tr>\n",
       "    <tr>\n",
       "      <th>2022-07-14</th>\n",
       "      <td>2204.21</td>\n",
       "      <td>2221.86</td>\n",
       "      <td>2167.4600</td>\n",
       "      <td>2207.35</td>\n",
       "      <td>1850152.0</td>\n",
       "    </tr>\n",
       "    <tr>\n",
       "      <th>2022-07-13</th>\n",
       "      <td>2234.02</td>\n",
       "      <td>2283.92</td>\n",
       "      <td>2224.0300</td>\n",
       "      <td>2227.07</td>\n",
       "      <td>2186101.0</td>\n",
       "    </tr>\n",
       "    <tr>\n",
       "      <th>2022-07-12</th>\n",
       "      <td>2324.30</td>\n",
       "      <td>2339.48</td>\n",
       "      <td>2273.8044</td>\n",
       "      <td>2280.41</td>\n",
       "      <td>1497985.0</td>\n",
       "    </tr>\n",
       "    <tr>\n",
       "      <th>2022-07-11</th>\n",
       "      <td>2359.96</td>\n",
       "      <td>2359.96</td>\n",
       "      <td>2306.6100</td>\n",
       "      <td>2313.53</td>\n",
       "      <td>1562185.0</td>\n",
       "    </tr>\n",
       "  </tbody>\n",
       "</table>\n",
       "</div>"
      ],
      "text/plain": [
       "               open     high        low    close     volume\n",
       "date                                                       \n",
       "2022-07-15  2240.01  2262.81  2218.0000  2235.55  2338456.0\n",
       "2022-07-14  2204.21  2221.86  2167.4600  2207.35  1850152.0\n",
       "2022-07-13  2234.02  2283.92  2224.0300  2227.07  2186101.0\n",
       "2022-07-12  2324.30  2339.48  2273.8044  2280.41  1497985.0\n",
       "2022-07-11  2359.96  2359.96  2306.6100  2313.53  1562185.0"
      ]
     },
     "execution_count": 184,
     "metadata": {},
     "output_type": "execute_result"
    }
   ],
   "source": [
    "googl_data.head()"
   ]
  },
  {
   "cell_type": "code",
   "execution_count": 185,
   "id": "bc4a4d9a",
   "metadata": {},
   "outputs": [],
   "source": [
    "googl_data=googl_data.sort_index(ascending=True)"
   ]
  },
  {
   "cell_type": "code",
   "execution_count": 186,
   "id": "781581ae",
   "metadata": {},
   "outputs": [
    {
     "data": {
      "text/html": [
       "<div>\n",
       "<style scoped>\n",
       "    .dataframe tbody tr th:only-of-type {\n",
       "        vertical-align: middle;\n",
       "    }\n",
       "\n",
       "    .dataframe tbody tr th {\n",
       "        vertical-align: top;\n",
       "    }\n",
       "\n",
       "    .dataframe thead th {\n",
       "        text-align: right;\n",
       "    }\n",
       "</style>\n",
       "<table border=\"1\" class=\"dataframe\">\n",
       "  <thead>\n",
       "    <tr style=\"text-align: right;\">\n",
       "      <th></th>\n",
       "      <th>open</th>\n",
       "      <th>high</th>\n",
       "      <th>low</th>\n",
       "      <th>close</th>\n",
       "      <th>volume</th>\n",
       "    </tr>\n",
       "    <tr>\n",
       "      <th>date</th>\n",
       "      <th></th>\n",
       "      <th></th>\n",
       "      <th></th>\n",
       "      <th></th>\n",
       "      <th></th>\n",
       "    </tr>\n",
       "  </thead>\n",
       "  <tbody>\n",
       "    <tr>\n",
       "      <th>2004-08-19</th>\n",
       "      <td>100.01</td>\n",
       "      <td>104.06</td>\n",
       "      <td>95.9600</td>\n",
       "      <td>100.335</td>\n",
       "      <td>44659000.0</td>\n",
       "    </tr>\n",
       "    <tr>\n",
       "      <th>2004-08-20</th>\n",
       "      <td>101.01</td>\n",
       "      <td>109.08</td>\n",
       "      <td>100.5000</td>\n",
       "      <td>108.310</td>\n",
       "      <td>22834300.0</td>\n",
       "    </tr>\n",
       "    <tr>\n",
       "      <th>2004-08-23</th>\n",
       "      <td>110.76</td>\n",
       "      <td>113.48</td>\n",
       "      <td>109.0500</td>\n",
       "      <td>109.400</td>\n",
       "      <td>18256100.0</td>\n",
       "    </tr>\n",
       "    <tr>\n",
       "      <th>2004-08-24</th>\n",
       "      <td>111.24</td>\n",
       "      <td>111.60</td>\n",
       "      <td>103.5700</td>\n",
       "      <td>104.870</td>\n",
       "      <td>15247300.0</td>\n",
       "    </tr>\n",
       "    <tr>\n",
       "      <th>2004-08-25</th>\n",
       "      <td>104.76</td>\n",
       "      <td>108.00</td>\n",
       "      <td>103.8800</td>\n",
       "      <td>106.000</td>\n",
       "      <td>9188600.0</td>\n",
       "    </tr>\n",
       "    <tr>\n",
       "      <th>...</th>\n",
       "      <td>...</td>\n",
       "      <td>...</td>\n",
       "      <td>...</td>\n",
       "      <td>...</td>\n",
       "      <td>...</td>\n",
       "    </tr>\n",
       "    <tr>\n",
       "      <th>2022-07-11</th>\n",
       "      <td>2359.96</td>\n",
       "      <td>2359.96</td>\n",
       "      <td>2306.6100</td>\n",
       "      <td>2313.530</td>\n",
       "      <td>1562185.0</td>\n",
       "    </tr>\n",
       "    <tr>\n",
       "      <th>2022-07-12</th>\n",
       "      <td>2324.30</td>\n",
       "      <td>2339.48</td>\n",
       "      <td>2273.8044</td>\n",
       "      <td>2280.410</td>\n",
       "      <td>1497985.0</td>\n",
       "    </tr>\n",
       "    <tr>\n",
       "      <th>2022-07-13</th>\n",
       "      <td>2234.02</td>\n",
       "      <td>2283.92</td>\n",
       "      <td>2224.0300</td>\n",
       "      <td>2227.070</td>\n",
       "      <td>2186101.0</td>\n",
       "    </tr>\n",
       "    <tr>\n",
       "      <th>2022-07-14</th>\n",
       "      <td>2204.21</td>\n",
       "      <td>2221.86</td>\n",
       "      <td>2167.4600</td>\n",
       "      <td>2207.350</td>\n",
       "      <td>1850152.0</td>\n",
       "    </tr>\n",
       "    <tr>\n",
       "      <th>2022-07-15</th>\n",
       "      <td>2240.01</td>\n",
       "      <td>2262.81</td>\n",
       "      <td>2218.0000</td>\n",
       "      <td>2235.550</td>\n",
       "      <td>2338456.0</td>\n",
       "    </tr>\n",
       "  </tbody>\n",
       "</table>\n",
       "<p>4508 rows × 5 columns</p>\n",
       "</div>"
      ],
      "text/plain": [
       "               open     high        low     close      volume\n",
       "date                                                         \n",
       "2004-08-19   100.01   104.06    95.9600   100.335  44659000.0\n",
       "2004-08-20   101.01   109.08   100.5000   108.310  22834300.0\n",
       "2004-08-23   110.76   113.48   109.0500   109.400  18256100.0\n",
       "2004-08-24   111.24   111.60   103.5700   104.870  15247300.0\n",
       "2004-08-25   104.76   108.00   103.8800   106.000   9188600.0\n",
       "...             ...      ...        ...       ...         ...\n",
       "2022-07-11  2359.96  2359.96  2306.6100  2313.530   1562185.0\n",
       "2022-07-12  2324.30  2339.48  2273.8044  2280.410   1497985.0\n",
       "2022-07-13  2234.02  2283.92  2224.0300  2227.070   2186101.0\n",
       "2022-07-14  2204.21  2221.86  2167.4600  2207.350   1850152.0\n",
       "2022-07-15  2240.01  2262.81  2218.0000  2235.550   2338456.0\n",
       "\n",
       "[4508 rows x 5 columns]"
      ]
     },
     "execution_count": 186,
     "metadata": {},
     "output_type": "execute_result"
    }
   ],
   "source": [
    "googl_data"
   ]
  },
  {
   "cell_type": "code",
   "execution_count": 187,
   "id": "88772f6a",
   "metadata": {},
   "outputs": [],
   "source": [
    "googl_data.reset_index(inplace=True)"
   ]
  },
  {
   "cell_type": "code",
   "execution_count": 188,
   "id": "f7a6909f",
   "metadata": {},
   "outputs": [
    {
     "data": {
      "text/html": [
       "<div>\n",
       "<style scoped>\n",
       "    .dataframe tbody tr th:only-of-type {\n",
       "        vertical-align: middle;\n",
       "    }\n",
       "\n",
       "    .dataframe tbody tr th {\n",
       "        vertical-align: top;\n",
       "    }\n",
       "\n",
       "    .dataframe thead th {\n",
       "        text-align: right;\n",
       "    }\n",
       "</style>\n",
       "<table border=\"1\" class=\"dataframe\">\n",
       "  <thead>\n",
       "    <tr style=\"text-align: right;\">\n",
       "      <th></th>\n",
       "      <th>date</th>\n",
       "      <th>open</th>\n",
       "      <th>high</th>\n",
       "      <th>low</th>\n",
       "      <th>close</th>\n",
       "      <th>volume</th>\n",
       "    </tr>\n",
       "  </thead>\n",
       "  <tbody>\n",
       "    <tr>\n",
       "      <th>0</th>\n",
       "      <td>2004-08-19</td>\n",
       "      <td>100.01</td>\n",
       "      <td>104.06</td>\n",
       "      <td>95.9600</td>\n",
       "      <td>100.335</td>\n",
       "      <td>44659000.0</td>\n",
       "    </tr>\n",
       "    <tr>\n",
       "      <th>1</th>\n",
       "      <td>2004-08-20</td>\n",
       "      <td>101.01</td>\n",
       "      <td>109.08</td>\n",
       "      <td>100.5000</td>\n",
       "      <td>108.310</td>\n",
       "      <td>22834300.0</td>\n",
       "    </tr>\n",
       "    <tr>\n",
       "      <th>2</th>\n",
       "      <td>2004-08-23</td>\n",
       "      <td>110.76</td>\n",
       "      <td>113.48</td>\n",
       "      <td>109.0500</td>\n",
       "      <td>109.400</td>\n",
       "      <td>18256100.0</td>\n",
       "    </tr>\n",
       "    <tr>\n",
       "      <th>3</th>\n",
       "      <td>2004-08-24</td>\n",
       "      <td>111.24</td>\n",
       "      <td>111.60</td>\n",
       "      <td>103.5700</td>\n",
       "      <td>104.870</td>\n",
       "      <td>15247300.0</td>\n",
       "    </tr>\n",
       "    <tr>\n",
       "      <th>4</th>\n",
       "      <td>2004-08-25</td>\n",
       "      <td>104.76</td>\n",
       "      <td>108.00</td>\n",
       "      <td>103.8800</td>\n",
       "      <td>106.000</td>\n",
       "      <td>9188600.0</td>\n",
       "    </tr>\n",
       "    <tr>\n",
       "      <th>...</th>\n",
       "      <td>...</td>\n",
       "      <td>...</td>\n",
       "      <td>...</td>\n",
       "      <td>...</td>\n",
       "      <td>...</td>\n",
       "      <td>...</td>\n",
       "    </tr>\n",
       "    <tr>\n",
       "      <th>4503</th>\n",
       "      <td>2022-07-11</td>\n",
       "      <td>2359.96</td>\n",
       "      <td>2359.96</td>\n",
       "      <td>2306.6100</td>\n",
       "      <td>2313.530</td>\n",
       "      <td>1562185.0</td>\n",
       "    </tr>\n",
       "    <tr>\n",
       "      <th>4504</th>\n",
       "      <td>2022-07-12</td>\n",
       "      <td>2324.30</td>\n",
       "      <td>2339.48</td>\n",
       "      <td>2273.8044</td>\n",
       "      <td>2280.410</td>\n",
       "      <td>1497985.0</td>\n",
       "    </tr>\n",
       "    <tr>\n",
       "      <th>4505</th>\n",
       "      <td>2022-07-13</td>\n",
       "      <td>2234.02</td>\n",
       "      <td>2283.92</td>\n",
       "      <td>2224.0300</td>\n",
       "      <td>2227.070</td>\n",
       "      <td>2186101.0</td>\n",
       "    </tr>\n",
       "    <tr>\n",
       "      <th>4506</th>\n",
       "      <td>2022-07-14</td>\n",
       "      <td>2204.21</td>\n",
       "      <td>2221.86</td>\n",
       "      <td>2167.4600</td>\n",
       "      <td>2207.350</td>\n",
       "      <td>1850152.0</td>\n",
       "    </tr>\n",
       "    <tr>\n",
       "      <th>4507</th>\n",
       "      <td>2022-07-15</td>\n",
       "      <td>2240.01</td>\n",
       "      <td>2262.81</td>\n",
       "      <td>2218.0000</td>\n",
       "      <td>2235.550</td>\n",
       "      <td>2338456.0</td>\n",
       "    </tr>\n",
       "  </tbody>\n",
       "</table>\n",
       "<p>4508 rows × 6 columns</p>\n",
       "</div>"
      ],
      "text/plain": [
       "           date     open     high        low     close      volume\n",
       "0    2004-08-19   100.01   104.06    95.9600   100.335  44659000.0\n",
       "1    2004-08-20   101.01   109.08   100.5000   108.310  22834300.0\n",
       "2    2004-08-23   110.76   113.48   109.0500   109.400  18256100.0\n",
       "3    2004-08-24   111.24   111.60   103.5700   104.870  15247300.0\n",
       "4    2004-08-25   104.76   108.00   103.8800   106.000   9188600.0\n",
       "...         ...      ...      ...        ...       ...         ...\n",
       "4503 2022-07-11  2359.96  2359.96  2306.6100  2313.530   1562185.0\n",
       "4504 2022-07-12  2324.30  2339.48  2273.8044  2280.410   1497985.0\n",
       "4505 2022-07-13  2234.02  2283.92  2224.0300  2227.070   2186101.0\n",
       "4506 2022-07-14  2204.21  2221.86  2167.4600  2207.350   1850152.0\n",
       "4507 2022-07-15  2240.01  2262.81  2218.0000  2235.550   2338456.0\n",
       "\n",
       "[4508 rows x 6 columns]"
      ]
     },
     "execution_count": 188,
     "metadata": {},
     "output_type": "execute_result"
    }
   ],
   "source": [
    "googl_data"
   ]
  },
  {
   "cell_type": "code",
   "execution_count": 189,
   "id": "9504d53d",
   "metadata": {},
   "outputs": [
    {
     "data": {
      "text/plain": [
       "Timestamp('2022-07-15 00:00:00')"
      ]
     },
     "execution_count": 189,
     "metadata": {},
     "output_type": "execute_result"
    }
   ],
   "source": [
    "googl_data['date'][4507]"
   ]
  },
  {
   "cell_type": "code",
   "execution_count": 192,
   "id": "307def91",
   "metadata": {},
   "outputs": [
    {
     "data": {
      "text/html": [
       "<div>\n",
       "<style scoped>\n",
       "    .dataframe tbody tr th:only-of-type {\n",
       "        vertical-align: middle;\n",
       "    }\n",
       "\n",
       "    .dataframe tbody tr th {\n",
       "        vertical-align: top;\n",
       "    }\n",
       "\n",
       "    .dataframe thead th {\n",
       "        text-align: right;\n",
       "    }\n",
       "</style>\n",
       "<table border=\"1\" class=\"dataframe\">\n",
       "  <thead>\n",
       "    <tr style=\"text-align: right;\">\n",
       "      <th></th>\n",
       "      <th>date</th>\n",
       "      <th>open</th>\n",
       "      <th>high</th>\n",
       "      <th>low</th>\n",
       "      <th>close</th>\n",
       "      <th>volume</th>\n",
       "    </tr>\n",
       "  </thead>\n",
       "  <tbody>\n",
       "    <tr>\n",
       "      <th>0</th>\n",
       "      <td>2004-08-19</td>\n",
       "      <td>100.01</td>\n",
       "      <td>104.06</td>\n",
       "      <td>95.96</td>\n",
       "      <td>100.335</td>\n",
       "      <td>44659000.0</td>\n",
       "    </tr>\n",
       "    <tr>\n",
       "      <th>1</th>\n",
       "      <td>2004-08-20</td>\n",
       "      <td>101.01</td>\n",
       "      <td>109.08</td>\n",
       "      <td>100.50</td>\n",
       "      <td>108.310</td>\n",
       "      <td>22834300.0</td>\n",
       "    </tr>\n",
       "    <tr>\n",
       "      <th>2</th>\n",
       "      <td>2004-08-23</td>\n",
       "      <td>110.76</td>\n",
       "      <td>113.48</td>\n",
       "      <td>109.05</td>\n",
       "      <td>109.400</td>\n",
       "      <td>18256100.0</td>\n",
       "    </tr>\n",
       "    <tr>\n",
       "      <th>3</th>\n",
       "      <td>2004-08-24</td>\n",
       "      <td>111.24</td>\n",
       "      <td>111.60</td>\n",
       "      <td>103.57</td>\n",
       "      <td>104.870</td>\n",
       "      <td>15247300.0</td>\n",
       "    </tr>\n",
       "    <tr>\n",
       "      <th>4</th>\n",
       "      <td>2004-08-25</td>\n",
       "      <td>104.76</td>\n",
       "      <td>108.00</td>\n",
       "      <td>103.88</td>\n",
       "      <td>106.000</td>\n",
       "      <td>9188600.0</td>\n",
       "    </tr>\n",
       "  </tbody>\n",
       "</table>\n",
       "</div>"
      ],
      "text/plain": [
       "        date    open    high     low    close      volume\n",
       "0 2004-08-19  100.01  104.06   95.96  100.335  44659000.0\n",
       "1 2004-08-20  101.01  109.08  100.50  108.310  22834300.0\n",
       "2 2004-08-23  110.76  113.48  109.05  109.400  18256100.0\n",
       "3 2004-08-24  111.24  111.60  103.57  104.870  15247300.0\n",
       "4 2004-08-25  104.76  108.00  103.88  106.000   9188600.0"
      ]
     },
     "execution_count": 192,
     "metadata": {},
     "output_type": "execute_result"
    }
   ],
   "source": [
    "googl_data.head()"
   ]
  },
  {
   "cell_type": "code",
   "execution_count": 193,
   "id": "0b741611",
   "metadata": {},
   "outputs": [
    {
     "data": {
      "text/plain": [
       "Text(0.5, 1.0, 'Google Autocorrelation plot')"
      ]
     },
     "execution_count": 193,
     "metadata": {},
     "output_type": "execute_result"
    },
    {
     "data": {
      "image/png": "[encoded data removed]",
      "text/plain": [
       "<Figure size 720x720 with 1 Axes>"
      ]
     },
     "metadata": {
      "needs_background": "light"
     },
     "output_type": "display_data"
    }
   ],
   "source": [
    "from pandas.plotting import lag_plot\n",
    "plt.figure(figsize=(10,10))\n",
    "lag_plot(googl_data['open'], lag=5)\n",
    "plt.title('Google Autocorrelation plot')"
   ]
  },
  {
   "cell_type": "code",
   "execution_count": 194,
   "id": "ae7c2a46",
   "metadata": {},
   "outputs": [
    {
     "data": {
      "text/plain": [
       "Text(0.5, 1.0, 'Close Price History of Google')"
      ]
     },
     "execution_count": 194,
     "metadata": {},
     "output_type": "execute_result"
    },
    {
     "data": {
      "image/png": "[encoded data removed]",
      "text/plain": [
       "<Figure size 1152x576 with 1 Axes>"
      ]
     },
     "metadata": {
      "needs_background": "light"
     },
     "output_type": "display_data"
    }
   ],
   "source": [
    "fig, ax = plt.subplots(figsize=(16,8))\n",
    "ax.plot(googl_data['date'], googl_data['close']);\n",
    "plt.title(\"Close Price History of Google\")"
   ]
  },
  {
   "cell_type": "code",
   "execution_count": 195,
   "id": "890d41a4",
   "metadata": {},
   "outputs": [
    {
     "data": {
      "text/plain": [
       "Timestamp('2022-07-15 00:00:00')"
      ]
     },
     "execution_count": 195,
     "metadata": {},
     "output_type": "execute_result"
    }
   ],
   "source": [
    "googl_data['date'][4507]"
   ]
  },
  {
   "cell_type": "code",
   "execution_count": 196,
   "id": "4961d429",
   "metadata": {},
   "outputs": [
    {
     "data": {
      "text/html": [
       "<div>\n",
       "<style scoped>\n",
       "    .dataframe tbody tr th:only-of-type {\n",
       "        vertical-align: middle;\n",
       "    }\n",
       "\n",
       "    .dataframe tbody tr th {\n",
       "        vertical-align: top;\n",
       "    }\n",
       "\n",
       "    .dataframe thead th {\n",
       "        text-align: right;\n",
       "    }\n",
       "</style>\n",
       "<table border=\"1\" class=\"dataframe\">\n",
       "  <thead>\n",
       "    <tr style=\"text-align: right;\">\n",
       "      <th></th>\n",
       "      <th>date</th>\n",
       "      <th>open</th>\n",
       "      <th>high</th>\n",
       "      <th>low</th>\n",
       "      <th>close</th>\n",
       "      <th>volume</th>\n",
       "    </tr>\n",
       "  </thead>\n",
       "  <tbody>\n",
       "    <tr>\n",
       "      <th>0</th>\n",
       "      <td>2004-08-19</td>\n",
       "      <td>100.01</td>\n",
       "      <td>104.06</td>\n",
       "      <td>95.9600</td>\n",
       "      <td>100.335</td>\n",
       "      <td>44659000.0</td>\n",
       "    </tr>\n",
       "    <tr>\n",
       "      <th>1</th>\n",
       "      <td>2004-08-20</td>\n",
       "      <td>101.01</td>\n",
       "      <td>109.08</td>\n",
       "      <td>100.5000</td>\n",
       "      <td>108.310</td>\n",
       "      <td>22834300.0</td>\n",
       "    </tr>\n",
       "    <tr>\n",
       "      <th>2</th>\n",
       "      <td>2004-08-23</td>\n",
       "      <td>110.76</td>\n",
       "      <td>113.48</td>\n",
       "      <td>109.0500</td>\n",
       "      <td>109.400</td>\n",
       "      <td>18256100.0</td>\n",
       "    </tr>\n",
       "    <tr>\n",
       "      <th>3</th>\n",
       "      <td>2004-08-24</td>\n",
       "      <td>111.24</td>\n",
       "      <td>111.60</td>\n",
       "      <td>103.5700</td>\n",
       "      <td>104.870</td>\n",
       "      <td>15247300.0</td>\n",
       "    </tr>\n",
       "    <tr>\n",
       "      <th>4</th>\n",
       "      <td>2004-08-25</td>\n",
       "      <td>104.76</td>\n",
       "      <td>108.00</td>\n",
       "      <td>103.8800</td>\n",
       "      <td>106.000</td>\n",
       "      <td>9188600.0</td>\n",
       "    </tr>\n",
       "    <tr>\n",
       "      <th>...</th>\n",
       "      <td>...</td>\n",
       "      <td>...</td>\n",
       "      <td>...</td>\n",
       "      <td>...</td>\n",
       "      <td>...</td>\n",
       "      <td>...</td>\n",
       "    </tr>\n",
       "    <tr>\n",
       "      <th>4503</th>\n",
       "      <td>2022-07-11</td>\n",
       "      <td>2359.96</td>\n",
       "      <td>2359.96</td>\n",
       "      <td>2306.6100</td>\n",
       "      <td>2313.530</td>\n",
       "      <td>1562185.0</td>\n",
       "    </tr>\n",
       "    <tr>\n",
       "      <th>4504</th>\n",
       "      <td>2022-07-12</td>\n",
       "      <td>2324.30</td>\n",
       "      <td>2339.48</td>\n",
       "      <td>2273.8044</td>\n",
       "      <td>2280.410</td>\n",
       "      <td>1497985.0</td>\n",
       "    </tr>\n",
       "    <tr>\n",
       "      <th>4505</th>\n",
       "      <td>2022-07-13</td>\n",
       "      <td>2234.02</td>\n",
       "      <td>2283.92</td>\n",
       "      <td>2224.0300</td>\n",
       "      <td>2227.070</td>\n",
       "      <td>2186101.0</td>\n",
       "    </tr>\n",
       "    <tr>\n",
       "      <th>4506</th>\n",
       "      <td>2022-07-14</td>\n",
       "      <td>2204.21</td>\n",
       "      <td>2221.86</td>\n",
       "      <td>2167.4600</td>\n",
       "      <td>2207.350</td>\n",
       "      <td>1850152.0</td>\n",
       "    </tr>\n",
       "    <tr>\n",
       "      <th>4507</th>\n",
       "      <td>2022-07-15</td>\n",
       "      <td>2240.01</td>\n",
       "      <td>2262.81</td>\n",
       "      <td>2218.0000</td>\n",
       "      <td>2235.550</td>\n",
       "      <td>2338456.0</td>\n",
       "    </tr>\n",
       "  </tbody>\n",
       "</table>\n",
       "<p>4508 rows × 6 columns</p>\n",
       "</div>"
      ],
      "text/plain": [
       "           date     open     high        low     close      volume\n",
       "0    2004-08-19   100.01   104.06    95.9600   100.335  44659000.0\n",
       "1    2004-08-20   101.01   109.08   100.5000   108.310  22834300.0\n",
       "2    2004-08-23   110.76   113.48   109.0500   109.400  18256100.0\n",
       "3    2004-08-24   111.24   111.60   103.5700   104.870  15247300.0\n",
       "4    2004-08-25   104.76   108.00   103.8800   106.000   9188600.0\n",
       "...         ...      ...      ...        ...       ...         ...\n",
       "4503 2022-07-11  2359.96  2359.96  2306.6100  2313.530   1562185.0\n",
       "4504 2022-07-12  2324.30  2339.48  2273.8044  2280.410   1497985.0\n",
       "4505 2022-07-13  2234.02  2283.92  2224.0300  2227.070   2186101.0\n",
       "4506 2022-07-14  2204.21  2221.86  2167.4600  2207.350   1850152.0\n",
       "4507 2022-07-15  2240.01  2262.81  2218.0000  2235.550   2338456.0\n",
       "\n",
       "[4508 rows x 6 columns]"
      ]
     },
     "execution_count": 196,
     "metadata": {},
     "output_type": "execute_result"
    }
   ],
   "source": [
    "googl_data"
   ]
  },
  {
   "cell_type": "code",
   "execution_count": 200,
   "id": "f8da826d",
   "metadata": {},
   "outputs": [
    {
     "data": {
      "text/plain": [
       "<matplotlib.legend.Legend at 0x2601b955cd0>"
      ]
     },
     "execution_count": 200,
     "metadata": {},
     "output_type": "execute_result"
    },
    {
     "data": {
      "image/png": "[encoded data removed]",
      "text/plain": [
       "<Figure size 864x504 with 1 Axes>"
      ]
     },
     "metadata": {
      "needs_background": "light"
     },
     "output_type": "display_data"
    }
   ],
   "source": [
    "train_data, test_data = googl_data[0:int(len(googl_data)*0.8)], googl_data[int(len(googl_data)*0.8):]\n",
    "plt.figure(figsize=(12,7))\n",
    "plt.title('google Prices')\n",
    "plt.xlabel('Dates')\n",
    "plt.ylabel('Prices')\n",
    "plt.plot(googl_data['open'], 'blue', label='Training Data')\n",
    "plt.plot(test_data['open'], 'green', label='Testing Data')\n",
    "plt.xticks(np.arange(0,4507, 1000), googl_data['date'][0:4507:1000])\n",
    "plt.legend()"
   ]
  },
  {
   "cell_type": "code",
   "execution_count": 201,
   "id": "6853c803",
   "metadata": {},
   "outputs": [],
   "source": [
    "def smape_kun(y_true, y_pred):\n",
    "    return np.mean((np.abs(y_pred - y_true) * 200/ (np.abs(y_pred) + np.abs(y_true))))"
   ]
  },
  {
   "cell_type": "code",
   "execution_count": 212,
   "id": "6ed4d6fc",
   "metadata": {},
   "outputs": [
    {
     "name": "stdout",
     "output_type": "stream",
     "text": [
      "<class 'list'>\n"
     ]
    },
    {
     "name": "stderr",
     "output_type": "stream",
     "text": [
      "C:\\Anaconda\\lib\\site-packages\\statsmodels\\tsa\\arima_model.py:472: FutureWarning: \n",
      "statsmodels.tsa.arima_model.ARMA and statsmodels.tsa.arima_model.ARIMA have\n",
      "been deprecated in favor of statsmodels.tsa.arima.model.ARIMA (note the .\n",
      "between arima and model) and\n",
      "statsmodels.tsa.SARIMAX. These will be removed after the 0.12 release.\n",
      "\n",
      "statsmodels.tsa.arima.model.ARIMA makes use of the statespace framework and\n",
      "is both well tested and maintained.\n",
      "\n",
      "To silence this warning and continue using ARMA and ARIMA until they are\n",
      "removed, use:\n",
      "\n",
      "import warnings\n",
      "warnings.filterwarnings('ignore', 'statsmodels.tsa.arima_model.ARMA',\n",
      "                        FutureWarning)\n",
      "warnings.filterwarnings('ignore', 'statsmodels.tsa.arima_model.ARIMA',\n",
      "                        FutureWarning)\n",
      "\n",
      "  warnings.warn(ARIMA_DEPRECATION_WARN, FutureWarning)\n"
     ]
    },
    {
     "name": "stdout",
     "output_type": "stream",
     "text": [
      "Testing Mean Squared Error: 1295.926\n",
      "Symmetric mean absolute percentage error: 37.943\n"
     ]
    }
   ],
   "source": [
    "from statsmodels.tsa.arima_model import ARIMA\n",
    "from sklearn.metrics import mean_squared_error\n",
    "train_ar = train_data['close'].values\n",
    "test_ar = test_data['close'].values\n",
    "\n",
    "# https://machinelearningmastery.com/arima-for-time-series-forecasting-with-python/\n",
    "history = [x for x in train_ar]\n",
    "print(type(history))\n",
    "predictions = list()\n",
    "for t in range(len(test_ar)):\n",
    "    model = ARIMA(history, order=(5,1,0))\n",
    "    model_fit = model.fit(disp=0)\n",
    "    output = model_fit.forecast()\n",
    "    yhat = output[0]\n",
    "    predictions.append(yhat)\n",
    "    obs = test_ar[t]\n",
    "    history.append(obs)\n",
    "    #print('predicted=%f, expected=%f' % (yhat, obs))\n",
    "error = mean_squared_error(test_ar, predictions)\n",
    "print('Testing Mean Squared Error: %.3f' % error)\n",
    "error2 = smape_kun(test_ar, predictions)\n",
    "print('Symmetric mean absolute percentage error: %.3f' % error2)"
   ]
  },
  {
   "cell_type": "code",
   "execution_count": 213,
   "id": "72b39a76",
   "metadata": {},
   "outputs": [
    {
     "name": "stdout",
     "output_type": "stream",
     "text": [
      "r2 score percentage error: 0.997\n"
     ]
    }
   ],
   "source": [
    "error3 = r2_score(test_ar, predictions)\n",
    "print('r2 score percentage error: %.3f' % error3)"
   ]
  },
  {
   "cell_type": "code",
   "execution_count": 215,
   "id": "aad1f3d7",
   "metadata": {},
   "outputs": [
    {
     "name": "stderr",
     "output_type": "stream",
     "text": [
      "C:\\Users\\NANCYM~1\\AppData\\Local\\Temp/ipykernel_17948/4216732886.py:2: UserWarning: color is redundantly defined by the 'color' keyword argument and the fmt string \"green\" (-> color=(0.0, 0.5019607843137255, 0.0, 1.0)). The keyword argument will take precedence.\n",
      "  plt.plot(googl_data['close'], 'green', color='blue', label='Training Data')\n"
     ]
    },
    {
     "data": {
      "text/plain": [
       "<matplotlib.legend.Legend at 0x2601e780fd0>"
      ]
     },
     "execution_count": 215,
     "metadata": {},
     "output_type": "execute_result"
    },
    {
     "data": {
      "image/png": "[encoded data removed]",
      "text/plain": [
       "<Figure size 864x504 with 1 Axes>"
      ]
     },
     "metadata": {
      "needs_background": "light"
     },
     "output_type": "display_data"
    }
   ],
   "source": [
    "plt.figure(figsize=(12,7))\n",
    "plt.plot(googl_data['close'], 'green', color='blue', label='Training Data')\n",
    "plt.plot(test_data.index, predictions, color='green', marker='o', linestyle='dashed', \n",
    "         label='Predicted Price')\n",
    "plt.plot(test_data.index, test_data['close'], color='red', label='Actual Price')\n",
    "plt.title('google Prices Prediction')\n",
    "plt.xlabel('Dates')\n",
    "plt.ylabel('Prices')\n",
    "plt.xticks(np.arange(0,4507, 1000), googl_data['date'][0:4507:1000])\n",
    "plt.legend()\n",
    "# fig, ax = plt.subplots(figsize=(16,8))\n",
    "# ax.plot(train_data[\"close\"])\n",
    "# ax.plot(valid_data[['close',\"Predictions\"]])\n",
    "# plt.legend(['Train', 'Val', 'Predictions'])"
   ]
  },
  {
   "cell_type": "code",
   "execution_count": 216,
   "id": "189e5fa9",
   "metadata": {},
   "outputs": [
    {
     "data": {
      "text/html": [
       "<div>\n",
       "<style scoped>\n",
       "    .dataframe tbody tr th:only-of-type {\n",
       "        vertical-align: middle;\n",
       "    }\n",
       "\n",
       "    .dataframe tbody tr th {\n",
       "        vertical-align: top;\n",
       "    }\n",
       "\n",
       "    .dataframe thead th {\n",
       "        text-align: right;\n",
       "    }\n",
       "</style>\n",
       "<table border=\"1\" class=\"dataframe\">\n",
       "  <thead>\n",
       "    <tr style=\"text-align: right;\">\n",
       "      <th></th>\n",
       "      <th>date</th>\n",
       "      <th>open</th>\n",
       "      <th>high</th>\n",
       "      <th>low</th>\n",
       "      <th>close</th>\n",
       "      <th>volume</th>\n",
       "    </tr>\n",
       "  </thead>\n",
       "  <tbody>\n",
       "    <tr>\n",
       "      <th>0</th>\n",
       "      <td>2004-08-19</td>\n",
       "      <td>100.01</td>\n",
       "      <td>104.06</td>\n",
       "      <td>95.9600</td>\n",
       "      <td>100.335</td>\n",
       "      <td>44659000.0</td>\n",
       "    </tr>\n",
       "    <tr>\n",
       "      <th>1</th>\n",
       "      <td>2004-08-20</td>\n",
       "      <td>101.01</td>\n",
       "      <td>109.08</td>\n",
       "      <td>100.5000</td>\n",
       "      <td>108.310</td>\n",
       "      <td>22834300.0</td>\n",
       "    </tr>\n",
       "    <tr>\n",
       "      <th>2</th>\n",
       "      <td>2004-08-23</td>\n",
       "      <td>110.76</td>\n",
       "      <td>113.48</td>\n",
       "      <td>109.0500</td>\n",
       "      <td>109.400</td>\n",
       "      <td>18256100.0</td>\n",
       "    </tr>\n",
       "    <tr>\n",
       "      <th>3</th>\n",
       "      <td>2004-08-24</td>\n",
       "      <td>111.24</td>\n",
       "      <td>111.60</td>\n",
       "      <td>103.5700</td>\n",
       "      <td>104.870</td>\n",
       "      <td>15247300.0</td>\n",
       "    </tr>\n",
       "    <tr>\n",
       "      <th>4</th>\n",
       "      <td>2004-08-25</td>\n",
       "      <td>104.76</td>\n",
       "      <td>108.00</td>\n",
       "      <td>103.8800</td>\n",
       "      <td>106.000</td>\n",
       "      <td>9188600.0</td>\n",
       "    </tr>\n",
       "    <tr>\n",
       "      <th>...</th>\n",
       "      <td>...</td>\n",
       "      <td>...</td>\n",
       "      <td>...</td>\n",
       "      <td>...</td>\n",
       "      <td>...</td>\n",
       "      <td>...</td>\n",
       "    </tr>\n",
       "    <tr>\n",
       "      <th>4503</th>\n",
       "      <td>2022-07-11</td>\n",
       "      <td>2359.96</td>\n",
       "      <td>2359.96</td>\n",
       "      <td>2306.6100</td>\n",
       "      <td>2313.530</td>\n",
       "      <td>1562185.0</td>\n",
       "    </tr>\n",
       "    <tr>\n",
       "      <th>4504</th>\n",
       "      <td>2022-07-12</td>\n",
       "      <td>2324.30</td>\n",
       "      <td>2339.48</td>\n",
       "      <td>2273.8044</td>\n",
       "      <td>2280.410</td>\n",
       "      <td>1497985.0</td>\n",
       "    </tr>\n",
       "    <tr>\n",
       "      <th>4505</th>\n",
       "      <td>2022-07-13</td>\n",
       "      <td>2234.02</td>\n",
       "      <td>2283.92</td>\n",
       "      <td>2224.0300</td>\n",
       "      <td>2227.070</td>\n",
       "      <td>2186101.0</td>\n",
       "    </tr>\n",
       "    <tr>\n",
       "      <th>4506</th>\n",
       "      <td>2022-07-14</td>\n",
       "      <td>2204.21</td>\n",
       "      <td>2221.86</td>\n",
       "      <td>2167.4600</td>\n",
       "      <td>2207.350</td>\n",
       "      <td>1850152.0</td>\n",
       "    </tr>\n",
       "    <tr>\n",
       "      <th>4507</th>\n",
       "      <td>2022-07-15</td>\n",
       "      <td>2240.01</td>\n",
       "      <td>2262.81</td>\n",
       "      <td>2218.0000</td>\n",
       "      <td>2235.550</td>\n",
       "      <td>2338456.0</td>\n",
       "    </tr>\n",
       "  </tbody>\n",
       "</table>\n",
       "<p>4508 rows × 6 columns</p>\n",
       "</div>"
      ],
      "text/plain": [
       "           date     open     high        low     close      volume\n",
       "0    2004-08-19   100.01   104.06    95.9600   100.335  44659000.0\n",
       "1    2004-08-20   101.01   109.08   100.5000   108.310  22834300.0\n",
       "2    2004-08-23   110.76   113.48   109.0500   109.400  18256100.0\n",
       "3    2004-08-24   111.24   111.60   103.5700   104.870  15247300.0\n",
       "4    2004-08-25   104.76   108.00   103.8800   106.000   9188600.0\n",
       "...         ...      ...      ...        ...       ...         ...\n",
       "4503 2022-07-11  2359.96  2359.96  2306.6100  2313.530   1562185.0\n",
       "4504 2022-07-12  2324.30  2339.48  2273.8044  2280.410   1497985.0\n",
       "4505 2022-07-13  2234.02  2283.92  2224.0300  2227.070   2186101.0\n",
       "4506 2022-07-14  2204.21  2221.86  2167.4600  2207.350   1850152.0\n",
       "4507 2022-07-15  2240.01  2262.81  2218.0000  2235.550   2338456.0\n",
       "\n",
       "[4508 rows x 6 columns]"
      ]
     },
     "execution_count": 216,
     "metadata": {},
     "output_type": "execute_result"
    }
   ],
   "source": [
    "googl_data"
   ]
  },
  {
   "cell_type": "code",
   "execution_count": 217,
   "id": "4b033ae2",
   "metadata": {},
   "outputs": [],
   "source": [
    "googl_data.to_csv('Google_data.csv')"
   ]
  },
  {
   "cell_type": "code",
   "execution_count": null,
   "id": "10b4830f",
   "metadata": {},
   "outputs": [],
   "source": []
  }
 ],
 "metadata": {
  "kernelspec": {
   "display_name": "Python 3 (ipykernel)",
   "language": "python",
   "name": "python3"
  },
  "language_info": {
   "codemirror_mode": {
    "name": "ipython",
    "version": 3
   },
   "file_extension": ".py",
   "mimetype": "text/x-python",
   "name": "python",
   "nbconvert_exporter": "python",
   "pygments_lexer": "ipython3",
   "version": "3.9.7"
  }
 },
 "nbformat": 4,
 "nbformat_minor": 5
}
